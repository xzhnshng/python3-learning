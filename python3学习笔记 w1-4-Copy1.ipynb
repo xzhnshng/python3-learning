{
 "cells": [
  {
   "cell_type": "markdown",
   "metadata": {},
   "source": [
    "### 2019.2.28 函数：调用函数"
   ]
  },
  {
   "cell_type": "markdown",
   "metadata": {},
   "source": [
    "Python内置了很多有用的函数，我们可以直接调用。<br/>\n",
    "\n",
    "要调用一个函数，需要知道函数的名称和参数，比如求绝对值的函数abs，只有一个参数。可以直接从Python的官方网站查看文档：<br/>\n",
    "\n",
    "http://docs.python.org/3/library/functions.html#abs\n",
    "\n",
    "也可以在交互式命令行通过help(abs)查看abs函数的帮助信息。"
   ]
  },
  {
   "cell_type": "markdown",
   "metadata": {},
   "source": [
    "下面介绍几个python内置的函数： <br/>\n",
    "1.  abs(),max(),hex()<br/>\n",
    "2. 数据类型转换的函数，如： int(), float(), str(), bool()"
   ]
  },
  {
   "cell_type": "markdown",
   "metadata": {},
   "source": [
    "**abs()**:有且仅有1个参数"
   ]
  },
  {
   "cell_type": "code",
   "execution_count": 1,
   "metadata": {},
   "outputs": [
    {
     "name": "stdout",
     "output_type": "stream",
     "text": [
      "10\n",
      "100\n",
      "12.5\n"
     ]
    }
   ],
   "source": [
    "print(abs(10))\n",
    "print(abs(-100))\n",
    "print(abs(-12.5))"
   ]
  },
  {
   "cell_type": "markdown",
   "metadata": {},
   "source": [
    "**max()**:可以接收任意多个参数，并返回最大的那个："
   ]
  },
  {
   "cell_type": "code",
   "execution_count": 2,
   "metadata": {},
   "outputs": [
    {
     "name": "stdout",
     "output_type": "stream",
     "text": [
      "9.9\n"
     ]
    }
   ],
   "source": [
    "print(max(1,2,3,4,9,9.9))"
   ]
  },
  {
   "cell_type": "markdown",
   "metadata": {},
   "source": [
    "**hex()**:函数把一个整数转换成十六进制表示的字符串"
   ]
  },
  {
   "cell_type": "code",
   "execution_count": 5,
   "metadata": {},
   "outputs": [
    {
     "name": "stdout",
     "output_type": "stream",
     "text": [
      "0x12\n"
     ]
    }
   ],
   "source": [
    "print(hex(18))"
   ]
  },
  {
   "cell_type": "markdown",
   "metadata": {},
   "source": [
    "**数据类型转换**："
   ]
  },
  {
   "cell_type": "code",
   "execution_count": 3,
   "metadata": {},
   "outputs": [
    {
     "name": "stdout",
     "output_type": "stream",
     "text": [
      "12\n",
      "True\n",
      "False\n",
      "False\n"
     ]
    }
   ],
   "source": [
    "print(int(12.34))\n",
    "print(bool(12))\n",
    "print(bool(0))\n",
    "print(bool(''))"
   ]
  },
  {
   "cell_type": "markdown",
   "metadata": {},
   "source": [
    "函数名其实就是指向一个函数对象的引用，完全可以把函数名赋给一个变量，相当于给这个函数起了一个“别名”："
   ]
  },
  {
   "cell_type": "code",
   "execution_count": 4,
   "metadata": {},
   "outputs": [
    {
     "name": "stdout",
     "output_type": "stream",
     "text": [
      "12\n"
     ]
    }
   ],
   "source": [
    "a=abs\n",
    "print(a(-12))"
   ]
  },
  {
   "cell_type": "markdown",
   "metadata": {},
   "source": [
    "### 2019.2.28 函数：定义函数"
   ]
  },
  {
   "cell_type": "markdown",
   "metadata": {},
   "source": [
    "在Python中，定义一个函数要使用def语句，依次写出函数名、括号、括号中的参数和冒号:，然后，在缩进块中编写函数体，函数的返回值用return语句返回。<br/>\n",
    "\n",
    "我们以自定义一个求绝对值的my_abs函数为例："
   ]
  },
  {
   "cell_type": "code",
   "execution_count": 13,
   "metadata": {},
   "outputs": [
    {
     "name": "stdout",
     "output_type": "stream",
     "text": [
      "please input a number:-9\n",
      "-9\n",
      "9\n"
     ]
    }
   ],
   "source": [
    "def my_abs():\n",
    "    myinput=input('please input a number:')\n",
    "    print(myinput)\n",
    "    myinput=int(myinput) #这一步是必要的，因为python中通过input()得到的输入是str, 要转换为int后才能和0比较，否则会报错：< cannot be between str and int\n",
    "    if myinput<0:\n",
    "        return -myinput\n",
    "    else:\n",
    "         return myinput\n",
    "c=my_abs()\n",
    "print(c)"
   ]
  },
  {
   "cell_type": "markdown",
   "metadata": {},
   "source": [
    "### 2019.2.28 函数：函数的参数\n",
    "这里会介绍： 位置参数，默认参数，可变参数，关键字参数，命名关键字参数，参数组合"
   ]
  },
  {
   "cell_type": "markdown",
   "metadata": {},
   "source": [
    "#### **1. 位置参数**\n",
    "看以下的例子，这里power(x, n)函数有两个参数：x和n，这两个参数都是位置参数，调用函数时，传入的两个值按照位置顺序依次赋给参数x和n。"
   ]
  },
  {
   "cell_type": "code",
   "execution_count": 13,
   "metadata": {},
   "outputs": [
    {
     "name": "stdout",
     "output_type": "stream",
     "text": [
      "8\n"
     ]
    }
   ],
   "source": [
    "def power(x,n):\n",
    "    s=1\n",
    "    while n>0:\n",
    "        s=s*x\n",
    "        n-=1\n",
    "    return s\n",
    "\n",
    "print(power(2,3))"
   ]
  },
  {
   "cell_type": "markdown",
   "metadata": {},
   "source": [
    "#### **2. 默认参数**\n",
    "看以下的例子"
   ]
  },
  {
   "cell_type": "code",
   "execution_count": 1,
   "metadata": {},
   "outputs": [
    {
     "name": "stdout",
     "output_type": "stream",
     "text": [
      "25\n",
      "125\n"
     ]
    }
   ],
   "source": [
    "def power(x,n=2):\n",
    "    s=1\n",
    "    while n>0:\n",
    "        s=s*x\n",
    "        n-=1\n",
    "    return s\n",
    "\n",
    "print(power(5)) #当我们调用power(5)时，相当于调用power(5, 2)\n",
    "print(power(5,3))"
   ]
  },
  {
   "cell_type": "markdown",
   "metadata": {},
   "source": [
    "从上面的例子可以看出，默认参数可以简化函数的调用。设置默认参数时，有几点要注意：<br/>\n",
    "\n",
    "一是必选**参数在前，默认参数在后**，否则Python的解释器会报错；<br/>\n",
    "\n",
    "二是如何设置默认参数。<br/>\n",
    "\n",
    "**当函数有多个参数时，把变化大的参数放前面，变化小的参数放后面。变化小的参数就可以作为默认参数。**<br/>\n",
    "\n",
    "使用默认参数有什么好处？最大的好处是能降低调用函数的难度。"
   ]
  },
  {
   "cell_type": "markdown",
   "metadata": {},
   "source": [
    "******************************************************\n",
    "有多个默认参数时，调用的时候，[见下面的例子]<br/>\n",
    "1. 既可以按顺序提供默认参数，比如调用enroll('Bob', 'M', 7)，意思是，除了name，gender这两个参数外，最后1个参数应用在参数age上，<br/>\n",
    "   city参数由于没有提供，仍然使用默认值。<br/>\n",
    "\n",
    "2. 也可以不按顺序提供部分默认参数。当不按顺序提供部分默认参数时，需要把参数名写上。比如调用enroll('Adam', 'M', city='Tianjin')，<br/>\n",
    "   意思是，city参数用传进去的值，其他默认参数继续使用默认值。<br/>"
   ]
  },
  {
   "cell_type": "code",
   "execution_count": 2,
   "metadata": {},
   "outputs": [
    {
     "name": "stdout",
     "output_type": "stream",
     "text": [
      "name: Bob\n",
      "gender: M\n",
      "age: 7\n",
      "city: Beijing\n",
      "name: Adam\n",
      "gender: M\n",
      "age: 6\n",
      "city: Tianjin\n"
     ]
    }
   ],
   "source": [
    "def enroll(name, gender, age=6, city='Beijing'):\n",
    "    print('name:', name)\n",
    "    print('gender:', gender)\n",
    "    print('age:', age)\n",
    "    print('city:', city)\n",
    "enroll('Bob','M',7)\n",
    "enroll('Adam','M',city='Tianjin')"
   ]
  },
  {
   "cell_type": "markdown",
   "metadata": {},
   "source": [
    "**默认参数有个最大的坑，演示如下：**"
   ]
  },
  {
   "cell_type": "code",
   "execution_count": 3,
   "metadata": {},
   "outputs": [],
   "source": [
    "#先定义一个函数，传入一个list，添加一个END再返回\n",
    "def add_end(L=[]):\n",
    "    L.append('END')\n",
    "    return L"
   ]
  },
  {
   "cell_type": "markdown",
   "metadata": {},
   "source": [
    ">>>当你正常调用时，结果似乎不错：<br/>\n",
    ">>> add_end([1, 2, 3])<br/>\n",
    "[1, 2, 3, 'END']<br/>\n",
    ">>> add_end(['x', 'y', 'z'])<br/>\n",
    "['x', 'y', 'z', 'END']<br/>\n",
    "<br/>\n",
    "当你使用默认参数调用时，一开始结果也是对的：<br/>\n",
    ">>> add_end()<br/>\n",
    "['END']<br/>\n",
    "<br/>\n",
    "但是，再次调用add_end()时，结果就不对了：<br/>\n",
    ">>> add_end()<br/>\n",
    "['END', 'END']\n",
    ">>> add_end()<br/>\n",
    "['END', 'END', 'END']<br/>\n",
    "<br/>\n",
    "Python函数在使用默认参数调用时，默认参数L的值就被计算出来了，即[]，因为默认参数L也是一个变量，它指向对象[]，每次以默认参数调用该函数，\n",
    "就改变了L的内容，则下次调用时，默认参数的内容就变了，不再是函数定义时的[]了。<br/>\n",
    "**定义默认参数要牢记一点：默认参数必须指向不变对象！**<br/>\n",
    "    要修改上面的例子，我们可以用None这个不变对象来实现："
   ]
  },
  {
   "cell_type": "code",
   "execution_count": 7,
   "metadata": {},
   "outputs": [
    {
     "name": "stdout",
     "output_type": "stream",
     "text": [
      "16\n",
      "8\n",
      "8\n",
      "8\n"
     ]
    }
   ],
   "source": [
    "def add_end(L=None):\n",
    "    if L==None:\n",
    "        L=[]\n",
    "    L.append('END')\n",
    "    return L\n",
    "\n",
    "def test(L=5): # ！！！test这个例子告诉我们！！！：只要默认参数本身没有暴露（即默认参数本身没有被投入使用而改变），那么就不会有问题\n",
    "    if L==5:\n",
    "        L=0\n",
    "    L=L+8\n",
    "    return L\n",
    "\n",
    "print(test(8)) #16\n",
    "print(test())#8\n",
    "print(test())\n",
    "print(test())\n",
    "    "
   ]
  },
  {
   "cell_type": "markdown",
   "metadata": {},
   "source": [
    "现在，无论调用多少次，都不会有问题："
   ]
  },
  {
   "cell_type": "code",
   "execution_count": 8,
   "metadata": {},
   "outputs": [
    {
     "name": "stdout",
     "output_type": "stream",
     "text": [
      "['END']\n",
      "['END']\n",
      "['END']\n"
     ]
    }
   ],
   "source": [
    "print(add_end())\n",
    "print(add_end())\n",
    "print(add_end())"
   ]
  },
  {
   "cell_type": "markdown",
   "metadata": {},
   "source": [
    "注：<br/>\n",
    "可变对象有list,dict<br/>\n",
    "不变对象有int,string,float,tuple"
   ]
  },
  {
   "cell_type": "markdown",
   "metadata": {},
   "source": [
    "#### **3. 可变参数**\n",
    "在Python函数中，还可以定义可变参数。顾名思义，可变参数就是传入的参数个数是可变的，可以是1个、2个到任意个，还可以是0个。<br/>\n",
    "<br/>\n",
    "我们以数学题为例子，给定一组数字a，b，c……，请计算a2 + b2 + c2 + ……。"
   ]
  },
  {
   "cell_type": "code",
   "execution_count": 9,
   "metadata": {},
   "outputs": [
    {
     "name": "stdout",
     "output_type": "stream",
     "text": [
      "55\n",
      "55\n"
     ]
    }
   ],
   "source": [
    "#由于参数个数不确定，我们首先想到可以把a，b，c……作为一个list或tuple传进来，这样，函数可以定义如下：\n",
    "def calc(numbers):\n",
    "    s=0\n",
    "    for n in numbers:\n",
    "        s=s+n*n\n",
    "    return s\n",
    "\n",
    "#1方+2方+3方+4方+5方=55\n",
    "print(calc([1,2,3,4,5])) #使用list传入参数\n",
    "print(calc((1,2,3,4,5))) #使用tuple传入参数\n",
    "\n",
    "#但是这种方式下，调用的时候，需要先组装出一个list或tuple\n",
    "#接下来介绍用可变参数"
   ]
  },
  {
   "cell_type": "markdown",
   "metadata": {},
   "source": [
    "**如果利用可变参数，调用函数的方式可以简化成这样：**  calc(1,2,3,4,5)<br/>\n",
    "利用可变参数的函数见下："
   ]
  },
  {
   "cell_type": "code",
   "execution_count": 10,
   "metadata": {},
   "outputs": [
    {
     "name": "stdout",
     "output_type": "stream",
     "text": [
      "55\n"
     ]
    }
   ],
   "source": [
    "def calc(*numbers):\n",
    "    s=0\n",
    "    for n in numbers:\n",
    "        s=s+n*n\n",
    "    return s\n",
    "\n",
    "print(calc(1,2,3,4,5))"
   ]
  },
  {
   "cell_type": "markdown",
   "metadata": {},
   "source": [
    "定义可变参数和定义一个list或tuple参数相比，**区别仅仅是在参数前面加了一个*号**。<br/>\n",
    "在函数内部，参数numbers接收到的是一个tuple，因此，函数代码完全不变。<br/>\n",
    "调用该函数时，可以传入任意个参数，包括0个参数："
   ]
  },
  {
   "cell_type": "code",
   "execution_count": 11,
   "metadata": {},
   "outputs": [
    {
     "name": "stdout",
     "output_type": "stream",
     "text": [
      "5\n",
      "0\n"
     ]
    }
   ],
   "source": [
    "print(calc(1,2))\n",
    "print(calc())"
   ]
  },
  {
   "cell_type": "markdown",
   "metadata": {},
   "source": [
    "**如果已经有一个list或者tuple，要调用一个可变参数怎么办？**<br/>\n",
    "可以这样做："
   ]
  },
  {
   "cell_type": "code",
   "execution_count": 12,
   "metadata": {},
   "outputs": [
    {
     "name": "stdout",
     "output_type": "stream",
     "text": [
      "55\n"
     ]
    }
   ],
   "source": [
    "c=[1,2,3,4,5]\n",
    "print(calc(*c))"
   ]
  },
  {
   "cell_type": "markdown",
   "metadata": {},
   "source": [
    "\\*c表示把c这个list的所有元素作为可变参数传进去。这种写法相当有用，而且很常见。"
   ]
  },
  {
   "cell_type": "markdown",
   "metadata": {},
   "source": [
    "#### 4. 关键字参数"
   ]
  },
  {
   "cell_type": "markdown",
   "metadata": {},
   "source": [
    "关键字参数：使我们能向函数传入多个参数，并把这些参数组装成一个dict <br/>\n",
    "可变参数允许你传入0个或任意个参数，这些可变参数在函数调用时自动组装为一个tuple。<br/>\n",
    "而关键字参数允许你传入0个或任意个含参数名的参数，这些关键字参数在函数内部自动组装为一个dict。请看示例："
   ]
  },
  {
   "cell_type": "code",
   "execution_count": 1,
   "metadata": {},
   "outputs": [],
   "source": [
    "def person(name,age,**kw):\n",
    "    print(\"name:\",name,\"age:\",age,\"others:\",kw)"
   ]
  },
  {
   "cell_type": "markdown",
   "metadata": {},
   "source": [
    "函数person除了必选参数name和age外，还接受关键字参数kw。\n",
    "1. 在调用该函数时，可以只传入必选参数\n",
    "2. 也可以传入任意个数的关键字参数"
   ]
  },
  {
   "cell_type": "code",
   "execution_count": 2,
   "metadata": {},
   "outputs": [
    {
     "name": "stdout",
     "output_type": "stream",
     "text": [
      "name: Michael age: 30 others: {}\n",
      "name: Tina age: 30 others: {'city': 'Beijing', 'gender': 'F', 'job': 'Engineer'}\n"
     ]
    }
   ],
   "source": [
    "#1. 只传入必选参数\n",
    "person('Michael',30)\n",
    "\n",
    "#2. 传入多个关键字参数\n",
    "person('Tina',30,city='Beijing',gender='F',job='Engineer')"
   ]
  },
  {
   "cell_type": "markdown",
   "metadata": {},
   "source": [
    "关键字参数有什么用？<br/>\n",
    "它可以扩展函数的功能。比如，在person函数里，我们保证能接收到name和age这两个参数，但是，如果调用者愿意提供更多的参数，我们也能收到。<br/>\n",
    "试想你正在做一个用户注册的功能，除了用户名和年龄是必填项外，其他都是可选项，利用关键字参数来定义这个函数就能满足注册的需求。"
   ]
  },
  {
   "cell_type": "markdown",
   "metadata": {},
   "source": [
    "和可变参数类似，<br/>\n",
    "如果已经有一个dict，要把它传入关键字参数怎么做？可以这样做："
   ]
  },
  {
   "cell_type": "code",
   "execution_count": 4,
   "metadata": {},
   "outputs": [
    {
     "name": "stdout",
     "output_type": "stream",
     "text": [
      "name: Tina age: 30 others: {'city': 'Beijing', 'job': 'Engineer', 'expected salary': 300000}\n"
     ]
    }
   ],
   "source": [
    "extra={'city':'Beijing','job':'Engineer','expected salary':300000}\n",
    "person('Tina',30,**extra)"
   ]
  },
  {
   "cell_type": "markdown",
   "metadata": {},
   "source": [
    "\\*\\*extra表示把extra这个dict的所有key-value用关键字参数传入到函数的\\*\\*kw参数，kw将获得一个dict。<br/>\n",
    "**注意**：kw获得的dict是extra的一份拷贝，对kw的改动不会影响到函数外的extra。"
   ]
  },
  {
   "cell_type": "markdown",
   "metadata": {},
   "source": [
    "#### 5. 命名关键字参数"
   ]
  },
  {
   "cell_type": "markdown",
   "metadata": {},
   "source": [
    "对于关键字参数，函数的调用者可以传入任意不受限制的关键字参数。<br/>\n",
    "**如果要限制关键字参数的名字，就可以用命名关键字参数**<br/>\n",
    "例如，只接收city和job作为关键字参数。这种方式定义的函数如下："
   ]
  },
  {
   "cell_type": "code",
   "execution_count": 6,
   "metadata": {},
   "outputs": [],
   "source": [
    "def person_1(name,age,*,city,job):\n",
    "    print(name,age,city,job)"
   ]
  },
  {
   "cell_type": "markdown",
   "metadata": {},
   "source": [
    "和关键字参数\\*\\*kw不同，命名关键字参数需要一个特殊分隔符\\*，\\*后面的参数被视为命名关键字参数。"
   ]
  },
  {
   "cell_type": "markdown",
   "metadata": {},
   "source": [
    "另外，**如果函数定义中已经有了一个可变参数**，后面跟着的命名关键字参数就不再需要一个特殊分隔符\\*了："
   ]
  },
  {
   "cell_type": "code",
   "execution_count": 7,
   "metadata": {},
   "outputs": [],
   "source": [
    "def person_2(name, age, *args, city, job):\n",
    "    print(name,age,args,city,job)"
   ]
  },
  {
   "cell_type": "markdown",
   "metadata": {},
   "source": [
    "**调用方式**：<br/>\n",
    "1. 命名关键字参数必须传入参数名（这和位置参数不同。）如果没有传入参数名，调用将报错<br/>\n",
    "2. 命名关键字参数可以有缺省值(在该命名关键字参数有默认值的情况下）:  命名关键字参数可以具有默认值，这样调用时，可不传入该命名关键参数"
   ]
  },
  {
   "cell_type": "code",
   "execution_count": 10,
   "metadata": {},
   "outputs": [
    {
     "name": "stdout",
     "output_type": "stream",
     "text": [
      "1\n",
      "Tina 30 Beijing engineer\n",
      "Tina 30 (1, 3, 5, 7, 9, 'tall') Beijing engineer\n",
      "2\n",
      "Tina 30 Beijing engineer\n"
     ]
    }
   ],
   "source": [
    "def person_1(name,age,*,city,job):\n",
    "    print(name,age,city,job)\n",
    "    \n",
    "def person_2(name, age, *args, city, job):\n",
    "    print(name,age,args,city,job)\n",
    "    \n",
    "#1 \n",
    "print(1)\n",
    "person_1('Tina',30,city='Beijing',job='engineer')\n",
    "person_2('Tina',30,1,3,5,7,9,'tall',city='Beijing',job='engineer')\n",
    "\n",
    "#2\n",
    "def person_3(name,age,*, city='Beijing',job):\n",
    "    print(name,age,city,job)\n",
    "print(2)    \n",
    "person_3('Tina',30,job='engineer')"
   ]
  },
  {
   "cell_type": "markdown",
   "metadata": {},
   "source": [
    "使用命名关键字参数时，要特别注意，如果没有可变参数，就必须加一个\\*作为特殊分隔符。如果缺少\\*，Python解释器将无法识别位置参数和命名关键字参数"
   ]
  },
  {
   "cell_type": "markdown",
   "metadata": {},
   "source": [
    "#### 6. 参数组合"
   ]
  },
  {
   "cell_type": "markdown",
   "metadata": {},
   "source": [
    "在Python中定义函数，可以用必选参数、默认参数、可变参数、关键字参数和命名关键字参数，这5种参数都可以组合使用。<br/>\n",
    "但是注意，参数定义的**顺序**必须是：**必选参数、默认参数、可变参数、命名关键字参数和关键字参数**。<br/>"
   ]
  },
  {
   "cell_type": "markdown",
   "metadata": {},
   "source": [
    "在函数调用的时候，Python解释器自动按照参数位置和参数名把对应的参数传进去。"
   ]
  },
  {
   "cell_type": "code",
   "execution_count": 15,
   "metadata": {},
   "outputs": [
    {
     "name": "stdout",
     "output_type": "stream",
     "text": [
      "a= 1 b= 2 c= 0 args= () kw= {}\n",
      "a= 1 b= 2 c= 3 args= () kw= {}\n",
      "a= 1 b= 2 c= 3 args= (4,) kw= {}\n",
      "a= 1 b= 2 c= 3 args= (3, 2, 1) kw= {'score': '100', 'rank': 'A'}\n",
      "a= 1 b= 2 c= 3 age= 9 kw= {}\n",
      "a= 1 b= 2 c= 3 age= 9 kw= {'name': 'Coco', 'gender': 'F'}\n"
     ]
    }
   ],
   "source": [
    "#示例\n",
    "def f1(a,b,c=0,*args,**kw):\n",
    "    print('a=',a,'b=',b,'c=',c,'args=',args,'kw=',kw)\n",
    "\n",
    "def f2(a,b,c=0,*,age,**kw):\n",
    "     print('a=',a,'b=',b,'c=',c,'age=',age,'kw=',kw)\n",
    "        \n",
    "#调用\n",
    "f1(1,2)\n",
    "f1(1,2,3)\n",
    "f1(1,2,3,4)\n",
    "f1(1,2,3,3,2,1,score='100',rank='A')\n",
    "\n",
    "f2(1,2,3,age=9)\n",
    "f2(1,2,3,age=9,name='Coco',gender='F')"
   ]
  },
  {
   "cell_type": "markdown",
   "metadata": {},
   "source": [
    "最神奇的是通过一个tuple和dict，你也可以调用上述函数："
   ]
  },
  {
   "cell_type": "code",
   "execution_count": 17,
   "metadata": {},
   "outputs": [
    {
     "name": "stdout",
     "output_type": "stream",
     "text": [
      "a= 1 b= 2 c= 3 args= (3, 2, 1) kw= {'score': '100', 'rank': 'A'}\n",
      "a= 1 b= 2 c= 3 age= 9 kw= {'name': 'Coco', 'gender': 'F'}\n"
     ]
    }
   ],
   "source": [
    "args=(1,2,3,3,2,1)\n",
    "kw={'score':'100','rank':'A'}\n",
    "f1(*args,**kw)\n",
    "\n",
    "args=(1,2,3)\n",
    "kw={'age':9,'name':'Coco','gender':'F'}\n",
    "f2(*args,**kw)"
   ]
  },
  {
   "cell_type": "markdown",
   "metadata": {},
   "source": [
    "所以，对于任意函数，都可以通过类似func(\\*args, \\*\\*kw)的形式调用它，无论它的参数是如何定义的。<br/>\n",
    "虽然可以组合多达5种参数，但不要同时使用太多的组合，否则函数接口的可理解性很差。"
   ]
  },
  {
   "cell_type": "markdown",
   "metadata": {},
   "source": [
    "### 小结"
   ]
  },
  {
   "cell_type": "markdown",
   "metadata": {},
   "source": [
    "1. 默认参数一定要用不可变对象，如果是可变对象，程序运行时会有逻辑错误！<br/>\n",
    "\n",
    "2. 要注意定义可变参数和关键字参数的语法：<br/>\n",
    "\n",
    "\\*args是可变参数，args接收的是一个tuple；<br/>\n",
    "\n",
    "\\*\\*kw是关键字参数，kw接收的是一个dict。<br/>\n",
    "\n",
    "可变参数既可以直接传入：func(1, 2, 3)，又可以先组装list或tuple，再通过\\*args传入：func(*(1, 2, 3))；<br/>\n",
    "\n",
    "关键字参数既可以直接传入：func(a=1, b=2)，又可以先组装dict，再通过\\*\\*kw传入：func(**{'a': 1, 'b': 2})。<br/>\n",
    "\n",
    "3. 使用\\*args和\\*\\*kw是Python的习惯写法<br/>\n",
    "\n",
    "4. 命名的关键字参数是为了限制调用者可以传入的参数名，同时可以提供默认值"
   ]
  },
  {
   "cell_type": "code",
   "execution_count": null,
   "metadata": {},
   "outputs": [],
   "source": []
  }
 ],
 "metadata": {
  "kernelspec": {
   "display_name": "Python 3",
   "language": "python",
   "name": "python3"
  },
  "language_info": {
   "codemirror_mode": {
    "name": "ipython",
    "version": 3
   },
   "file_extension": ".py",
   "mimetype": "text/x-python",
   "name": "python",
   "nbconvert_exporter": "python",
   "pygments_lexer": "ipython3",
   "version": "3.7.1"
  }
 },
 "nbformat": 4,
 "nbformat_minor": 2
}
