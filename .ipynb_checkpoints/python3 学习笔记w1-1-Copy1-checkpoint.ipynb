{
 "cells": [
  {
   "cell_type": "markdown",
   "metadata": {},
   "source": [
    "## 廖雪峰python3课程笔记"
   ]
  },
  {
   "cell_type": "markdown",
   "metadata": {},
   "source": [
    "## 2019.2.24 第一个python程序：输出和输入\n",
    "print()和input()"
   ]
  },
  {
   "cell_type": "markdown",
   "metadata": {},
   "source": [
    "### 输入：print()\n",
    "参考网址：[廖雪峰] (https://www.liaoxuefeng.com/wiki/0014316089557264a6b348958f449949df42a6d3a2e542c000/001431643484137e38b44e5925440ec8b1e4c70f800b4e2000) [RUBOOB.COM] (http://www.runoob.com/w3cnote/python3-print-func-b.html)"
   ]
  },
  {
   "cell_type": "code",
   "execution_count": 10,
   "metadata": {
    "scrolled": true
   },
   "outputs": [
    {
     "name": "stdout",
     "output_type": "stream",
     "text": [
      "hello world\n",
      "The quick brown fox jumps over the lazy dog\n",
      "100\n",
      "300\n",
      "100+200= 300\n",
      "ok\n",
      "[1, 2, 'a']\n",
      "(1, 2, 'a')\n",
      "{'a': 1, 'b': 2}\n"
     ]
    }
   ],
   "source": [
    "\"\"\"\n",
    "print() 基本操作：字符串，数字, 其他\n",
    "\"\"\"\n",
    "#1.对字符串\n",
    "print('hello world')\n",
    "print('The quick brown fox', 'jumps over', 'the lazy dog')#print可以接受多个字符串，用逗号“,”隔开，就可以连成一串输出,会依次打印每个字符串,\n",
    "                                                                             # 遇到逗号“,”会输出一个空格\n",
    "#2.也可以打印整数，或者计算结果\n",
    "print(100)\n",
    "print(100+200)\n",
    "print('100+200=',100+200)\n",
    "\n",
    "#3.其他：变量，列表，元组，字典\n",
    "str = 'ok'\n",
    "print(str)     #变量\n",
    "L=[1,2,'a']\n",
    "print(L)       #列表\n",
    "t=(1,2,'a')\n",
    "print(t)        #元组\n",
    "d={'a':1,'b':2}\n",
    "print(d)        #字典"
   ]
  },
  {
   "cell_type": "code",
   "execution_count": 14,
   "metadata": {},
   "outputs": [
    {
     "name": "stdout",
     "output_type": "stream",
     "text": [
      "the length of (runoob) is 6\n",
      "nHex=ff,nDec=255,nOct=377\n",
      "3.141593\n",
      "     3.142\n",
      "3.142     \n"
     ]
    }
   ],
   "source": [
    "\"\"\"\n",
    "print() 格式化输出：字符串，数字, 其他\n",
    "\"\"\"\n",
    "#1.常用 %s:格式化字符串，%d:格式化整数，%f:格式化浮点数，可指定小数点后的精度\n",
    "print(\"the length of (%s) is %d\" %('runoob',len('runoob')))\n",
    "\n",
    "#2.格式化输出十六进制，十进制，八进制整数\n",
    "\"\"\"\n",
    "%x---hex十六进制\n",
    "%d---dec十进制\n",
    "%o---oct八进制\n",
    "\"\"\"\n",
    "nHex=0xFF\n",
    "print('nHex=%x,nDec=%d,nOct=%o'%(nHex,nHex,nHex))\n",
    "\n",
    "#3.格式化输出浮点数\n",
    "pi=3.141592653\n",
    "print('%f'%pi)\n",
    "print('%10.3f'%pi)    #字段宽10，精度3\n",
    "print('%-10.3f'%pi)  #左对齐"
   ]
  },
  {
   "cell_type": "code",
   "execution_count": 20,
   "metadata": {},
   "outputs": [
    {
     "name": "stdout",
     "output_type": "stream",
     "text": [
      "0\n",
      "1\n",
      "2\n",
      "3\n",
      "4\n",
      "5\n",
      "012345"
     ]
    }
   ],
   "source": [
    "\"\"\"\n",
    "在python中print默认是换行的，要不想换行你应该写成print(i,end='')\n",
    "\"\"\"\n",
    "for i in range(6):\n",
    "    print(i)\n",
    "for i in range(6):\n",
    "    print(i,end='')"
   ]
  },
  {
   "cell_type": "markdown",
   "metadata": {},
   "source": [
    "### 输入 input()\n",
    "参考网址：[廖雪峰] (https://www.liaoxuefeng.com/wiki/0014316089557264a6b348958f449949df42a6d3a2e542c000/001431643484137e38b44e5925440ec8b1e4c70f800b4e2000)"
   ]
  },
  {
   "cell_type": "code",
   "execution_count": 23,
   "metadata": {},
   "outputs": [
    {
     "name": "stdout",
     "output_type": "stream",
     "text": [
      "Alice\n",
      "hello Alice\n",
      "please enter your name:Alicd\n",
      "hello Alicd\n"
     ]
    }
   ],
   "source": [
    "\"\"\"\n",
    "示例：用户把内容输入到name(变量)中\n",
    "\"\"\"\n",
    "name=input()\n",
    "print('hello',name)\n",
    "\n",
    "#更加用户友好地：\n",
    "name=input('please enter your name:')\n",
    "print('hello',name)"
   ]
  },
  {
   "cell_type": "markdown",
   "metadata": {},
   "source": [
    "## 2019.2.25 python基础：数据类型与变量\n",
    "python能直接处理的数据类型有：整数，浮点数，字符串，布尔值，空值，变量，常量<br/>\n",
    "此外，Python还提供了列表、字典等多种数据类型，还允许创建自定义数据类型，我们后面会继续讲到。\n",
    "\n",
    "**整数**：如1，10，-99，8080 等等<br/>\n",
    "计算机由于使用二进制，所以，有时候用十六进制表示整数比较方便，十六进制用0x前缀和0-9，a-f表示，如0xff00, 0xa5b4c3d2 等等\n",
    "\n",
    "**浮点数**：也就是小数<br/>\n",
    "浮点数可以用数学写法，如1.23，3.14，-9.01，等等。<br/>\n",
    "但是对于很大或很小的浮点数，就必须用科学计数法表示，把10用e替代, $1.23\\times10^9$就是1.23e9，或者12.3e8，0.000012可以写成1.2e-5，等等。"
   ]
  },
  {
   "cell_type": "markdown",
   "metadata": {},
   "source": [
    "**字符串**：字符串是以单引号'或双引号\"括起来的任意文本，比如'abc'，\"xyz\"等等。请注意，''或\"\"本身只是一种表示方式，不是字符串的一部分，因此，字符串'abc'只有a，b，c这3个字符。<br/>\n",
    "**1.转义字符**\\，\n",
    "使用如:<br/>\n",
    "单引号  \\\\'  <br/>\n",
    "双引号  \\\\\" <br/>\n",
    "换行     \\\\n<br/>\n",
    "制表符  \\\\t<br/>\n",
    "\\符号   \\\\\\<br/>"
   ]
  },
  {
   "cell_type": "code",
   "execution_count": 1,
   "metadata": {},
   "outputs": [
    {
     "name": "stdout",
     "output_type": "stream",
     "text": [
      "I'm learning\n",
      "Python.\n"
     ]
    }
   ],
   "source": [
    " print('I\\'m learning\\nPython.')"
   ]
  },
  {
   "cell_type": "markdown",
   "metadata": {},
   "source": [
    "**2.   r'' 默认''内的内容不转义**<br/>\n",
    "如果字符串里面有很多字符都需要转义，就需要加很多\\，为了简化，Python还允许用r''表示''内部的字符串默认不转义"
   ]
  },
  {
   "cell_type": "code",
   "execution_count": 2,
   "metadata": {},
   "outputs": [
    {
     "name": "stdout",
     "output_type": "stream",
     "text": [
      "\\\\\\t\\\\\n"
     ]
    }
   ],
   "source": [
    "print(r'\\\\\\t\\\\')"
   ]
  },
  {
   "cell_type": "markdown",
   "metadata": {},
   "source": [
    "**3.'''...'''表示多行内容，自动换行**<br/>\n",
    "如果字符串内部有很多换行，用\\n写在一行里不好阅读，为了简化，Python允许用'''...'''的格式表示多行内容"
   ]
  },
  {
   "cell_type": "code",
   "execution_count": 4,
   "metadata": {},
   "outputs": [
    {
     "name": "stdout",
     "output_type": "stream",
     "text": [
      "line1\n",
      "line2\n",
      "line3\n"
     ]
    }
   ],
   "source": [
    "print('''line1\n",
    "... line2\n",
    "... line3''')"
   ]
  },
  {
   "cell_type": "markdown",
   "metadata": {},
   "source": [
    "**布尔值**：布尔值只有两种值，要么是True,要么是False<br/>\n",
    "在Python中，可以直接用True、False表示布尔值（请注意大小写），也可以通过布尔运算计算出来,见下"
   ]
  },
  {
   "cell_type": "code",
   "execution_count": 5,
   "metadata": {},
   "outputs": [
    {
     "name": "stdout",
     "output_type": "stream",
     "text": [
      "True\n",
      "True\n"
     ]
    }
   ],
   "source": [
    "print(True)\n",
    "print(3>2)"
   ]
  },
  {
   "cell_type": "markdown",
   "metadata": {},
   "source": [
    "布尔值的运算： 用and, or ,not,使用见下"
   ]
  },
  {
   "cell_type": "code",
   "execution_count": 6,
   "metadata": {},
   "outputs": [
    {
     "name": "stdout",
     "output_type": "stream",
     "text": [
      "True\n",
      "True\n",
      "False\n"
     ]
    }
   ],
   "source": [
    "print(True and True)\n",
    "print(2>3 or 4>1)\n",
    "print(not 3>1)"
   ]
  },
  {
   "cell_type": "markdown",
   "metadata": {},
   "source": [
    "布尔值经常用在条件判断中，比如："
   ]
  },
  {
   "cell_type": "code",
   "execution_count": 7,
   "metadata": {},
   "outputs": [
    {
     "name": "stdout",
     "output_type": "stream",
     "text": [
      "adult\n"
     ]
    }
   ],
   "source": [
    "age=19\n",
    "if age<18:\n",
    "    print('teenager')\n",
    "else:\n",
    "    print('adult')"
   ]
  },
  {
   "cell_type": "markdown",
   "metadata": {},
   "source": [
    "**空值**： 空值是Python里一个特殊的值，用None表示。None不能理解为0，因为0是有意义的，而None是一个特殊的空值。"
   ]
  },
  {
   "cell_type": "markdown",
   "metadata": {},
   "source": [
    "**变量**：在计算机程序中，变量不仅可以是数字，还可以是任意数据类型<br/>\n",
    "变量在程序中就是用一个变量名表示了，变量名必须是大小写英文、数字和_的组合，且不能用数字开头<br/>"
   ]
  },
  {
   "cell_type": "code",
   "execution_count": 8,
   "metadata": {
    "scrolled": true
   },
   "outputs": [
    {
     "data": {
      "text/plain": [
       "'\\n在Python中，等号=是赋值语句，可以把任意数据类型赋值给变量，同一个变量可以反复赋值，而且可以是不同类型的变量\\n这种变量本身类型不固定的语言称之为动态语言，与之对应的是静态语言。静态语言在定义变量时必须指定变量类型，如果赋值的时候类型不匹配，就会报错。\\n即python为动态语言\\n与之对应的是静态语言如Java\\n'"
      ]
     },
     "execution_count": 8,
     "metadata": {},
     "output_type": "execute_result"
    }
   ],
   "source": [
    "a=1 \n",
    "b='temper'\n",
    "c=True\n",
    "#变量a,b,c分别为整数，字符串，布尔值\n",
    "\"\"\"\n",
    "在Python中，等号=是赋值语句，可以把任意数据类型赋值给变量，同一个变量可以反复赋值，而且可以是不同类型的变量\n",
    "这种变量本身类型不固定的语言称之为动态语言，与之对应的是静态语言。静态语言在定义变量时必须指定变量类型，如果赋值的时候类型不匹配，就会报错。\n",
    "即python为动态语言\n",
    "与之对应的是静态语言如Java\n",
    "和静态语言相比，动态语言更灵活\n",
    "\"\"\""
   ]
  },
  {
   "cell_type": "markdown",
   "metadata": {},
   "source": [
    "**常量**：所谓常量就是不能变的变量，比如常用的数学常数π就是一个常量。<br/>"
   ]
  },
  {
   "cell_type": "code",
   "execution_count": 10,
   "metadata": {},
   "outputs": [
    {
     "name": "stdout",
     "output_type": "stream",
     "text": [
      "3.141592653589793\n"
     ]
    }
   ],
   "source": [
    "import math\n",
    "print(math.pi)"
   ]
  },
  {
   "cell_type": "markdown",
   "metadata": {},
   "source": [
    "***python中的三种除法***： /，//，%"
   ]
  },
  {
   "cell_type": "code",
   "execution_count": 11,
   "metadata": {},
   "outputs": [
    {
     "name": "stdout",
     "output_type": "stream",
     "text": [
      "3.3333333333333335\n",
      "3.0\n",
      "3\n",
      "3\n",
      "1\n"
     ]
    }
   ],
   "source": [
    "#/除法计算结果是浮点数，即使是两个整数恰好整除，结果也是浮点数：\n",
    "print(10/3)\n",
    "print(9/3)\n",
    "#还有一种除法是//，称为地板除，两个整数的除法仍然是整数,//除法只取结果的整数部分\n",
    "print(10//3)\n",
    "print(9//3)\n",
    "#取余除法%\n",
    "print(10%3)\n",
    "##注：无论整数做//除法还是取余数，结果永远是整数，所以，整数运算结果永远是精确的。"
   ]
  },
  {
   "cell_type": "markdown",
   "metadata": {},
   "source": [
    "### 数据类型与变量小结\n",
    "Python支持多种数据类型，在计算机内部，可以把任何数据都看成一个“对象”，而变量就是在程序中用来指向这些数据对象的，对变量赋值就是把数据和变量给关联起来。<br/>\n",
    "\n",
    "对变量赋值x = y是把变量x指向真正的对象，该对象是变量y所指向的。随后对变量y的赋值**不影响**变量x的指向。<br/>\n",
    "\n",
    "注意：Python的整数没有大小限制，而某些语言的整数根据其存储长度是有大小限制的，例如Java对32位整数的范围限制在-2147483648到2147483647。<br/>\n",
    "\n",
    "Python的浮点数也没有大小限制，但是超出一定范围就直接表示为inf（无限大）。"
   ]
  }
 ],
 "metadata": {
  "kernelspec": {
   "display_name": "Python 3",
   "language": "python",
   "name": "python3"
  },
  "language_info": {
   "codemirror_mode": {
    "name": "ipython",
    "version": 3
   },
   "file_extension": ".py",
   "mimetype": "text/x-python",
   "name": "python",
   "nbconvert_exporter": "python",
   "pygments_lexer": "ipython3",
   "version": "3.7.1"
  }
 },
 "nbformat": 4,
 "nbformat_minor": 2
}
