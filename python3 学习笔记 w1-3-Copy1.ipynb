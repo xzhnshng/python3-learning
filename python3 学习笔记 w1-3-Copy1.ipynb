{
 "cells": [
  {
   "cell_type": "markdown",
   "metadata": {},
   "source": [
    "### 2019.2.27 python基础：条件判断"
   ]
  },
  {
   "cell_type": "markdown",
   "metadata": {},
   "source": [
    "三种格式：<br/>\n",
    "1. if...<br/>\n",
    "2. if...else...<br/>\n",
    "3. if...elif...elif..else    (可以有若干个elif)<br/>\n",
    "\n",
    "\n",
    "   if <条件判断1>:<br/>\n",
    "          <执行1><br/>\n",
    "   elif <条件判断2>:<br/>\n",
    "          <执行2><br/>\n",
    "   elif <条件判断3>:<br/>\n",
    "           <执行3><br/>\n",
    "   else:<br/>\n",
    "           <执行4><br/>"
   ]
  },
  {
   "cell_type": "code",
   "execution_count": 1,
   "metadata": {},
   "outputs": [
    {
     "name": "stdout",
     "output_type": "stream",
     "text": [
      "adult\n",
      "adult\n"
     ]
    }
   ],
   "source": [
    "age=25\n",
    "#注意不要少写了冒号:.\n",
    "#1\n",
    "if age<18:\n",
    "    print('teenager')\n",
    "    \n",
    "#2\n",
    "if age<18:\n",
    "    print('teenager')\n",
    "else:\n",
    "    print('adult')\n",
    "    \n",
    "#3\n",
    "if age>=18:\n",
    "    print('adult')\n",
    "elif age>=10:\n",
    "    print('teenager')\n",
    "else:\n",
    "    print('kid')"
   ]
  },
  {
   "cell_type": "markdown",
   "metadata": {},
   "source": [
    "if语句执行有个特点，它是从上往下判断，如果在某个判断上是True，把该判断对应的语句执行后，就忽略掉剩下的elif和else"
   ]
  },
  {
   "cell_type": "markdown",
   "metadata": {},
   "source": [
    "**再议input**<br/>\n",
    "看下面代码例子<br/>\n",
    "注意：input()返回的数据类型是str，str不能直接和整数比较，必须先把str转换成整数。Python提供了int()函数来完成这件事情："
   ]
  },
  {
   "cell_type": "code",
   "execution_count": 3,
   "metadata": {},
   "outputs": [
    {
     "name": "stdout",
     "output_type": "stream",
     "text": [
      "your birth year is1990\n",
      "00前\n"
     ]
    }
   ],
   "source": [
    "s=input(\"your birth year is\")\n",
    "birth=int(s)\n",
    "if birth>2000:\n",
    "    print('00后')\n",
    "else:\n",
    "    print('00前')"
   ]
  },
  {
   "cell_type": "markdown",
   "metadata": {},
   "source": [
    "### 2019.2.27 python基础：循环"
   ]
  },
  {
   "cell_type": "markdown",
   "metadata": {},
   "source": [
    "将讨论：<br/>\n",
    "for...in...<br/>\n",
    "while<br/>\n",
    "break<br/>\n",
    "continue"
   ]
  },
  {
   "cell_type": "markdown",
   "metadata": {},
   "source": [
    "#### for...in...循环"
   ]
  },
  {
   "cell_type": "code",
   "execution_count": 6,
   "metadata": {},
   "outputs": [
    {
     "name": "stdout",
     "output_type": "stream",
     "text": [
      "Michael\n",
      "Tracy\n",
      "Lily\n",
      "Paul\n"
     ]
    }
   ],
   "source": [
    "#示例1\n",
    "names=['Michael','Tracy','Lily','Paul']\n",
    "for name in names:\n",
    "    print(name)"
   ]
  },
  {
   "cell_type": "code",
   "execution_count": 10,
   "metadata": {},
   "outputs": [
    {
     "name": "stdout",
     "output_type": "stream",
     "text": [
      "5050\n"
     ]
    }
   ],
   "source": [
    "#示例2（从1加到100）\n",
    "sum=0\n",
    "for i in range(101):\n",
    "    sum+=i\n",
    "print (sum)"
   ]
  },
  {
   "cell_type": "markdown",
   "metadata": {},
   "source": [
    "#### while循环\n",
    "只要条件满足，就不断循环，条件不满足时退出循环。"
   ]
  },
  {
   "cell_type": "code",
   "execution_count": 15,
   "metadata": {},
   "outputs": [
    {
     "name": "stdout",
     "output_type": "stream",
     "text": [
      "2500\n",
      "2500\n"
     ]
    }
   ],
   "source": [
    "#示例：比如我们要计算100以内所有奇数之和，可以用while循环实现\n",
    "i=1;sum=0\n",
    "while i<100:\n",
    "    if i%2==1:\n",
    "        sum+=i\n",
    "    i+=1\n",
    "print(sum)\n",
    "\n",
    "\n",
    "#或者\n",
    "sum = 0\n",
    "n = 99\n",
    "while n > 0:\n",
    "    sum = sum + n\n",
    "    n = n - 2\n",
    "print(sum)"
   ]
  },
  {
   "cell_type": "markdown",
   "metadata": {},
   "source": [
    "#### break：提前退出循环"
   ]
  },
  {
   "cell_type": "code",
   "execution_count": 18,
   "metadata": {},
   "outputs": [
    {
     "name": "stdout",
     "output_type": "stream",
     "text": [
      "012345678910"
     ]
    }
   ],
   "source": [
    "#示例：当i超过10时，结束循环\n",
    "for i in range(101):\n",
    "    if i>10:\n",
    "        break\n",
    "    print(i,end='')#,end=''起到不换行的作用"
   ]
  },
  {
   "cell_type": "markdown",
   "metadata": {},
   "source": [
    "#### continue：提前结束本轮循环，并直接开始下一轮循环"
   ]
  },
  {
   "cell_type": "code",
   "execution_count": 19,
   "metadata": {},
   "outputs": [
    {
     "name": "stdout",
     "output_type": "stream",
     "text": [
      "13579"
     ]
    }
   ],
   "source": [
    "#示例：打印1-10中的奇数\n",
    "n=0\n",
    "while n<10:\n",
    "    n+=1\n",
    "    if n%2==0:\n",
    "        continue\n",
    "    print(n,end='')"
   ]
  },
  {
   "cell_type": "markdown",
   "metadata": {},
   "source": [
    "**小结**\n",
    "1. break语句可以在循环过程中直接退出循环，而continue语句可以提前结束本轮循环，并直接开始下一轮循环。这两个语句通常都必须配合if语句使用。<br/>\n",
    "\n",
    "2. 要特别注意，不要滥用break和continue语句。break和continue会造成代码执行逻辑分叉过多，容易出错。大多数循环并不需要用到break和continue语句，上面的两个例子，都可以通过改写循环条件或者修改循环逻辑，去掉break和continue语句。<br/>\n",
    "\n",
    "3. 有些时候，如果代码写得有问题，会让程序陷入“死循环”，也就是永远循环下去。这时可以用Ctrl+C退出程序，或者强制结束Python进程<br/>"
   ]
  },
  {
   "cell_type": "code",
   "execution_count": null,
   "metadata": {},
   "outputs": [],
   "source": []
  }
 ],
 "metadata": {
  "kernelspec": {
   "display_name": "Python 3",
   "language": "python",
   "name": "python3"
  },
  "language_info": {
   "codemirror_mode": {
    "name": "ipython",
    "version": 3
   },
   "file_extension": ".py",
   "mimetype": "text/x-python",
   "name": "python",
   "nbconvert_exporter": "python",
   "pygments_lexer": "ipython3",
   "version": "3.7.1"
  }
 },
 "nbformat": 4,
 "nbformat_minor": 2
}
