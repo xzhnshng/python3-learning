{
 "cells": [
  {
   "cell_type": "markdown",
   "metadata": {},
   "source": [
    "### 2019.3.5 高级特性：迭代"
   ]
  },
  {
   "cell_type": "markdown",
   "metadata": {},
   "source": [
    "如果给定一个list或tuple，我们可以通过for循环来遍历这个list或tuple，这种遍历我们称为**迭代（Iteration）**。<br/>\n",
    "\n",
    "**在Python中，迭代是通过for ... in来完成的**，而很多语言比如C语言，迭代list是通过下标完成的，比如Java代码：<br/>\n",
    "\n",
    "for (i=0; i<list.length; i++) {<br/>\n",
    "    n = list[i];<br/>\n",
    "}"
   ]
  },
  {
   "cell_type": "markdown",
   "metadata": {},
   "source": [
    "Python的for循环不仅可以用在list或tuple上，还可以作用在其他可迭代对象上。<br/>\n",
    "list这种数据类型有下标，但很多其他数据类型是没有下标的<br/>\n",
    "但是，只要是可迭代对象，无论有无下标，都可以迭代，比如dict就可以迭代："
   ]
  },
  {
   "cell_type": "code",
   "execution_count": 7,
   "metadata": {},
   "outputs": [
    {
     "name": "stdout",
     "output_type": "stream",
     "text": [
      "a\n",
      "b\n",
      "c\n"
     ]
    }
   ],
   "source": [
    "d={'a':1,'b':2,'c':3}\n",
    "for k in d:\n",
    "    print(k)"
   ]
  },
  {
   "cell_type": "markdown",
   "metadata": {},
   "source": [
    "注意：因为dict的存储不是按照list的方式顺序排列，所以，迭代出的结果顺序很可能不一样。<br/>\n",
    "**默认情况下，dict迭代的是key。<br/>\n",
    "如果要迭代value，可以用for value in d.values()，<br/>\n",
    "如果要同时迭代key和value，可以用for k, v in d.items()。<br/>**\n",
    "## 上面两个命令1.不要忘（），2. 这里的k,v不能随意换为其他变量名\n",
    "<br/>\n",
    "<br/>"
   ]
  },
  {
   "cell_type": "markdown",
   "metadata": {},
   "source": [
    "字符串也是可迭代对象："
   ]
  },
  {
   "cell_type": "code",
   "execution_count": 10,
   "metadata": {},
   "outputs": [
    {
     "name": "stdout",
     "output_type": "stream",
     "text": [
      "1\n",
      "2\n",
      "3\n",
      "e\n",
      "f\n",
      "g\n"
     ]
    }
   ],
   "source": [
    "for i in '123efg':\n",
    "    print(i)"
   ]
  },
  {
   "cell_type": "markdown",
   "metadata": {},
   "source": [
    "**如何判断一个对象是可迭代对象呢？**<br/>\n",
    "方法是通过collections模块的Iterable类型判断："
   ]
  },
  {
   "cell_type": "code",
   "execution_count": 19,
   "metadata": {},
   "outputs": [
    {
     "name": "stdout",
     "output_type": "stream",
     "text": [
      "True\n",
      "True\n",
      "False\n"
     ]
    }
   ],
   "source": [
    "from collections import Iterable\n",
    "a=isinstance('123r',Iterable) #字符串是否可迭代\n",
    "print(a)\n",
    "b=isinstance([1,2,3,4,5],Iterable)#list是否可迭代\n",
    "print(b)\n",
    "c=isinstance(123,Iterable)#整数是否可迭代\n",
    "print(c)"
   ]
  },
  {
   "cell_type": "markdown",
   "metadata": {},
   "source": [
    "如果要对list实现类似Java那样的**下标循环**怎么办？<br/>\n",
    "**Python内置的enumerate函数**可以把一个list变成索引-元素对，这样就可以在for循环中同时迭代索引和元素本身："
   ]
  },
  {
   "cell_type": "code",
   "execution_count": 20,
   "metadata": {},
   "outputs": [
    {
     "name": "stdout",
     "output_type": "stream",
     "text": [
      "0 A\n",
      "1 B\n",
      "2 C\n"
     ]
    }
   ],
   "source": [
    "for i,value in enumerate(['A','B','C']):\n",
    "    print(i,value)"
   ]
  },
  {
   "cell_type": "code",
   "execution_count": 21,
   "metadata": {},
   "outputs": [
    {
     "name": "stdout",
     "output_type": "stream",
     "text": [
      "1 2\n",
      "3 4\n",
      "5 6\n"
     ]
    }
   ],
   "source": [
    "#在for 循环里同时引用两个变量在python中是常见的\n",
    "for i,n in [(1,2),(3,4),(5,6)]:\n",
    "    print (i,n)"
   ]
  },
  {
   "cell_type": "markdown",
   "metadata": {},
   "source": [
    "*******"
   ]
  },
  {
   "cell_type": "markdown",
   "metadata": {},
   "source": [
    "## 练习"
   ]
  },
  {
   "cell_type": "markdown",
   "metadata": {},
   "source": [
    "请使用迭代查找一个list中最小和最大值，并返回一个tuple："
   ]
  },
  {
   "cell_type": "code",
   "execution_count": 38,
   "metadata": {},
   "outputs": [],
   "source": [
    "#思路1\n",
    "def findMinAndMax1(L):\n",
    "    if L:\n",
    "        min_e, max_e = L[0], L[0]\n",
    "        for i in L:\n",
    "            min_e = i if i < min_e else min_e #这是python的三元表达式\n",
    "            max_e = i if i > max_e else max_e\n",
    "        return (min_e, max_e)\n",
    "    return (None, None)"
   ]
  },
  {
   "cell_type": "code",
   "execution_count": 39,
   "metadata": {},
   "outputs": [],
   "source": [
    "#思路2:巧妙地利用了set()产生的集合内元素按从小到大排序的特性\n",
    "def findMinAndMax2(L):\n",
    "    L=list(set(L))\n",
    "    return L[0],L[len(L)-1]\n"
   ]
  },
  {
   "cell_type": "code",
   "execution_count": 40,
   "metadata": {},
   "outputs": [],
   "source": [
    "#思路3:用sort函数（排序函数）\n",
    "def findMinAndMax3(L):\n",
    "    if not len(L):\n",
    "        return \"数组长度为零（空list）\"\n",
    "    else:\n",
    "        L.sort()\n",
    "        return L[0],L[len(L)-1]"
   ]
  },
  {
   "cell_type": "code",
   "execution_count": 42,
   "metadata": {},
   "outputs": [
    {
     "name": "stdout",
     "output_type": "stream",
     "text": [
      "(1, 4)\n",
      "(1, 4)\n",
      "(1, 4)\n"
     ]
    }
   ],
   "source": [
    "L=[1,2,4]\n",
    "print(findMinAndMax1(L))\n",
    "print(findMinAndMax2(L))\n",
    "print(findMinAndMax3(L))"
   ]
  },
  {
   "cell_type": "markdown",
   "metadata": {},
   "source": [
    "### 2019.3.5 高级特性：列表生成式"
   ]
  },
  {
   "cell_type": "markdown",
   "metadata": {},
   "source": [
    "列表生成式是python内置的可以创建list的生成式,**列表生成式即为[ ]**"
   ]
  },
  {
   "cell_type": "code",
   "execution_count": 45,
   "metadata": {},
   "outputs": [
    {
     "name": "stdout",
     "output_type": "stream",
     "text": [
      "[1, 2, 3, 4, 5, 6, 7, 8, 9, 10]\n"
     ]
    }
   ],
   "source": [
    "#示例1:生成list[1, 2, 3, 4, 5, 6, 7, 8, 9, 10]\n",
    "print(list(range(1,11)))"
   ]
  },
  {
   "cell_type": "code",
   "execution_count": 46,
   "metadata": {},
   "outputs": [
    {
     "name": "stdout",
     "output_type": "stream",
     "text": [
      "[1, 4, 9, 16, 25, 36, 49, 64, 81, 100]\n"
     ]
    }
   ],
   "source": [
    "#示例2:生成[1x1, 2x2, 3x3, ..., 10x10]\n",
    "print([i*i for i in range(1,11)])"
   ]
  },
  {
   "cell_type": "markdown",
   "metadata": {},
   "source": [
    "1. for循环**后面**还可以加上if判断，这样我们就可以筛选出仅偶数的平方：\n",
    "2. 还可以使用**两层循环**，可以生成全排列："
   ]
  },
  {
   "cell_type": "code",
   "execution_count": 48,
   "metadata": {},
   "outputs": [
    {
     "name": "stdout",
     "output_type": "stream",
     "text": [
      "[4, 16, 36, 64, 100]\n",
      "['AX', 'AY', 'AZ', 'BX', 'BY', 'BZ', 'CX', 'CY', 'CZ']\n"
     ]
    }
   ],
   "source": [
    "#1\n",
    "print([i*i for i in range(1,11) if i%2==0])\n",
    "#2\n",
    "print([m+n for m in 'ABC' for n in 'XYZ']) #python中字符串用+连接"
   ]
  },
  {
   "cell_type": "markdown",
   "metadata": {},
   "source": [
    "for循环其实可以**同时使用两个甚至多个变量**:<br/>\n",
    "1. 如，dict的items()可以同时迭代key和value\n",
    "2. 列表生成式也可以使用两个变量来生成list"
   ]
  },
  {
   "cell_type": "code",
   "execution_count": 71,
   "metadata": {},
   "outputs": [
    {
     "name": "stdout",
     "output_type": "stream",
     "text": [
      "x = A\n",
      "y = B\n",
      "z = C\n",
      "x=A\n",
      "y=B\n",
      "z=C\n"
     ]
    }
   ],
   "source": [
    "#1\n",
    "d = {'x': 'A', 'y': 'B', 'z': 'C' }\n",
    "for k,v in d.items():\n",
    "    print(k,'=',v)\n",
    "for k,v in d.items():\n",
    "    print(k+'='+v) #字符串用+号连接"
   ]
  },
  {
   "cell_type": "code",
   "execution_count": 81,
   "metadata": {},
   "outputs": [
    {
     "name": "stdout",
     "output_type": "stream",
     "text": [
      "['x=A', 'y=B', 'z=C']\n"
     ]
    }
   ],
   "source": [
    "print([k+'='+v for k,v in d.items()])"
   ]
  },
  {
   "cell_type": "markdown",
   "metadata": {},
   "source": [
    "## 练习"
   ]
  },
  {
   "cell_type": "markdown",
   "metadata": {},
   "source": [
    "如果list中既包含字符串，又包含整数，由于非字符串类型没有lower()方法，所以列表生成式会报错<br/>\n",
    "使用内建的isinstance函数可以判断一个变量是不是字符串<br/>\n",
    "请修改列表生成式，通过添加if语句保证列表生成式能正确地执行<br/>\n",
    "L1 = ['Hello', 'World', 18, 'Apple', None]"
   ]
  },
  {
   "cell_type": "code",
   "execution_count": 84,
   "metadata": {},
   "outputs": [
    {
     "name": "stdout",
     "output_type": "stream",
     "text": [
      "['hello', 'world', 'apple']\n"
     ]
    }
   ],
   "source": [
    "L1 = ['Hello', 'World', 18, 'Apple', None]\n",
    "#解\n",
    "L2=[i.lower() for i in L1 if isinstance(i,str)]\n",
    "print(L2)"
   ]
  },
  {
   "cell_type": "code",
   "execution_count": null,
   "metadata": {},
   "outputs": [],
   "source": []
  }
 ],
 "metadata": {
  "kernelspec": {
   "display_name": "Python 3",
   "language": "python",
   "name": "python3"
  },
  "language_info": {
   "codemirror_mode": {
    "name": "ipython",
    "version": 3
   },
   "file_extension": ".py",
   "mimetype": "text/x-python",
   "name": "python",
   "nbconvert_exporter": "python",
   "pygments_lexer": "ipython3",
   "version": "3.6.8"
  }
 },
 "nbformat": 4,
 "nbformat_minor": 2
}
