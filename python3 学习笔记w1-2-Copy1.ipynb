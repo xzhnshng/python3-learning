{
 "cells": [
  {
   "cell_type": "markdown",
   "metadata": {},
   "source": [
    "### 字符串与编码：还没看"
   ]
  },
  {
   "cell_type": "markdown",
   "metadata": {},
   "source": [
    "## 2019.2.25 python基础：使用list和tuple"
   ]
  },
  {
   "cell_type": "markdown",
   "metadata": {},
   "source": [
    "### 列表list：\n",
    "list是一种有序的集合，可以随时添加和删除其中的元素<br/>\n",
    "如，classmates = ['Michael', 'Bob', 'Tracy']，这里classmates就是一个list<br/>\n",
    "1. 用len()函数可以获得list元素的个数\n",
    "2. 用索引来访问list中每一个位置的元素，记得索引是从0开始的。<br/>\n",
    "3. 最后一个元素的索引是len(classmates) - 1, 如果要取最后一个元素，除了计算索引位置外，还可以用-1做索引，直接获取最后一个元素\n",
    "4. 以此类推，可以获取倒数第2个、倒数第3个 (当然，倒数第4个就越界了)"
   ]
  },
  {
   "cell_type": "code",
   "execution_count": 2,
   "metadata": {},
   "outputs": [
    {
     "name": "stdout",
     "output_type": "stream",
     "text": [
      "3\n",
      "Michael Bob\n",
      "Tracy Tracy\n",
      "Bob\n",
      "Michael\n"
     ]
    }
   ],
   "source": [
    "classmates = ['Michael', 'Bob', 'Tracy']\n",
    "print(len(classmates)) #1\n",
    "print(classmates[0], classmates[1])#2\n",
    "print(classmates[2],classmates[-1])#3\n",
    "print(classmates[-2])#4\n",
    "print(classmates[-3])"
   ]
  },
  {
   "cell_type": "markdown",
   "metadata": {},
   "source": [
    "list是一个可变的有序表，以下列出对list进行的操作：\n",
    "1. 可以往list中追加元素到末尾：用append()\n",
    "2. 也可以把元素插入到指定的位置: 用insert( , )\n",
    "3. 要删除list末尾的元素: 用pop()\n",
    "4. 要删除指定位置的元素: 用pop(i)方法\n",
    "5. 要把某个元素替换成别的元素：直接赋值给对应的索引位置"
   ]
  },
  {
   "cell_type": "code",
   "execution_count": 7,
   "metadata": {},
   "outputs": [
    {
     "name": "stdout",
     "output_type": "stream",
     "text": [
      "1 ['Michael', 'Bob', 'Tracy', 'Adam']\n",
      "2 ['Michael', 'Haha', 'Bob', 'Tracy', 'Adam']\n",
      "3 ['Michael', 'Haha', 'Bob', 'Tracy']\n",
      "4 ['Michael', 'Haha', 'Tracy']\n",
      "5 ['Alice', 'Haha', 'Tracy']\n"
     ]
    }
   ],
   "source": [
    "classmates = ['Michael', 'Bob', 'Tracy']\n",
    "#1. append()\n",
    "classmates.append('Adam')\n",
    "print(1,classmates)\n",
    "#2. insert( , )\n",
    "classmates.insert(1,'Haha')\n",
    "print(2,classmates)\n",
    "#3. pop()\n",
    "classmates.pop()\n",
    "print(3,classmates)\n",
    "#4.pop(i)\n",
    "classmates.pop(2)\n",
    "print(4,classmates)\n",
    "#5\n",
    "classmates[0]='Alice'\n",
    "print(5,classmates)"
   ]
  },
  {
   "cell_type": "markdown",
   "metadata": {},
   "source": [
    "list里面的元素的数据类型也可以不同，比如： L = ['Apple', 123, True]<br/>\n",
    "list元素也可以是另一个list，比如："
   ]
  },
  {
   "cell_type": "code",
   "execution_count": 8,
   "metadata": {},
   "outputs": [
    {
     "name": "stdout",
     "output_type": "stream",
     "text": [
      "4\n",
      "php\n"
     ]
    }
   ],
   "source": [
    "s = ['python', 'java', ['asp', 'php'], 'scheme']\n",
    "print(len(s))\n",
    "#要拿到'php'\n",
    "print(s[2][1])"
   ]
  },
  {
   "cell_type": "markdown",
   "metadata": {},
   "source": [
    "如果一个list中一个元素也没有，就是一个空的list，它的长度为0："
   ]
  },
  {
   "cell_type": "code",
   "execution_count": 9,
   "metadata": {},
   "outputs": [
    {
     "name": "stdout",
     "output_type": "stream",
     "text": [
      "0\n"
     ]
    }
   ],
   "source": [
    "L=[]\n",
    "print(len(L))"
   ]
  },
  {
   "cell_type": "markdown",
   "metadata": {},
   "source": [
    "### 元组tuple:\n",
    "另一种有序列表叫元组：tuple。tuple和list非常类似，但是tuple一旦初始化就不能修改<br/>\n",
    "比如同样是列出同学的名字："
   ]
  },
  {
   "cell_type": "code",
   "execution_count": 11,
   "metadata": {},
   "outputs": [],
   "source": [
    "classmates = ('Michael', 'Bob', 'Tracy') #这里classmates是一个元组"
   ]
  },
  {
   "cell_type": "markdown",
   "metadata": {},
   "source": [
    "现在，classmates这个tuple不能变了，它也没有append()，insert()这样的方法。其他获取元素的方法和list是一样的，你可以正常地使用classmates[0]，\n",
    "classmates[-1]，但不能赋值成另外的元素。<br/>\n",
    "所以，当你定义一个tuple时，在定义的时候，tuple的元素就必须被确定下来<br/>\n",
    "不可变的tuple有什么意义？因为tuple不可变，所以代码更安全。如果可能，能用tuple代替list就尽量用tuple"
   ]
  },
  {
   "cell_type": "markdown",
   "metadata": {},
   "source": [
    "如果要**定义一个空的tuple**，可以写成()："
   ]
  },
  {
   "cell_type": "code",
   "execution_count": 13,
   "metadata": {},
   "outputs": [
    {
     "name": "stdout",
     "output_type": "stream",
     "text": [
      "()\n"
     ]
    }
   ],
   "source": [
    "t=()\n",
    "print(t)"
   ]
  },
  {
   "cell_type": "markdown",
   "metadata": {},
   "source": [
    "**定义一个只有1个元素的tuple**,必须在这单个元素后加一个逗号，，（来消除歧义）<br/>\n",
    "Python在显示只有1个元素的tuple时，也会加一个逗号,，以免你误解成数学计算意义上的括号。"
   ]
  },
  {
   "cell_type": "code",
   "execution_count": 14,
   "metadata": {},
   "outputs": [
    {
     "name": "stdout",
     "output_type": "stream",
     "text": [
      "(1,)\n"
     ]
    }
   ],
   "source": [
    "t=(1,)\n",
    "print(t)"
   ]
  },
  {
   "cell_type": "markdown",
   "metadata": {},
   "source": [
    "最后来看一个“可变的”tuple："
   ]
  },
  {
   "cell_type": "code",
   "execution_count": 16,
   "metadata": {},
   "outputs": [
    {
     "name": "stdout",
     "output_type": "stream",
     "text": [
      "('a', 'b', ['X', 'Y'])\n"
     ]
    }
   ],
   "source": [
    "t=('a','b',['A','B'])\n",
    "t[2][0]='X'\n",
    "t[2][1]='Y'\n",
    "print(t)"
   ]
  },
  {
   "cell_type": "markdown",
   "metadata": {},
   "source": [
    "表面上看，tuple的元素确实变了，但其实变的不是tuple的元素，而是list的元素。tuple一开始指向的list并没有改成别的list，所以，tuple所谓的“不变”是说，\n",
    "tuple的每个元素，指向永远不变。即指向'a'，就不能改成指向'b'，指向一个list，就不能改成指向其他对象，但指向的这个list本身是可变的！<br/>\n",
    "\n",
    "理解了“指向不变”后，要创建一个内容也不变的tuple怎么做？那就必须保证tuple的每一个元素本身也不能变。"
   ]
  },
  {
   "cell_type": "markdown",
   "metadata": {},
   "source": [
    "## 2019.2.26 python基础：使用dict和set"
   ]
  },
  {
   "cell_type": "markdown",
   "metadata": {},
   "source": [
    "### 字典dict：\n",
    "dict全称dictionary，在其他语言中也称为map，使用键-值（key-value）存储，具有极快的查找速度。<br/>\n",
    "用Python写一个dict如下："
   ]
  },
  {
   "cell_type": "code",
   "execution_count": 19,
   "metadata": {},
   "outputs": [
    {
     "name": "stdout",
     "output_type": "stream",
     "text": [
      "95\n"
     ]
    }
   ],
   "source": [
    "d={'Michael':95,'Bob':75,'Tracy':85}\n",
    "print(d['Michael'])"
   ]
  },
  {
   "cell_type": "markdown",
   "metadata": {},
   "source": [
    "这种key-value存储方式\n",
    "1. 根据key直接拿到value, 非常快\n",
    "2. 在放进去的时候，必须根据key算出value的存放位置，这样，取的时候才能根据key直接拿到value。\n",
    "3. dict的key必须是**不可变对象**<br/>\n",
    "    原因：这是因为dict根据key来计算value的存储位置，如果每次计算相同的key得出的结果不同，那dict内部就完全混乱了。这个通过key计算位置的算法称为哈希算法（Hash）。<br/>\n",
    "    要保证hash的正确性，作为key的对象就不能变。在Python中，字符串、整数等都是不可变的，因此，可以放心地作为key。而list是可变的，就不能作为key"
   ]
  },
  {
   "cell_type": "markdown",
   "metadata": {},
   "source": [
    "**把数据放入dict的方法**，除了初始化时指定外，还可以通过key放入 ：#1<br/>\n",
    "另外，由于一个key只能对应一个value，所以，多次对一个key放入value，后面的值会把前面的值冲掉：#2"
   ]
  },
  {
   "cell_type": "code",
   "execution_count": 20,
   "metadata": {},
   "outputs": [
    {
     "name": "stdout",
     "output_type": "stream",
     "text": [
      "{'Michael': 100, 'Bob': 75, 'Tracy': 85}\n",
      "{'Michael': 99, 'Bob': 75, 'Tracy': 85}\n"
     ]
    }
   ],
   "source": [
    "#1\n",
    "d['Michael']=100\n",
    "print(d)\n",
    "#2\n",
    "d['Michael']=99\n",
    "print(d)"
   ]
  },
  {
   "cell_type": "markdown",
   "metadata": {},
   "source": [
    "如果key不存在，dict就会报错。<br/>\n",
    "**要避免key不存在的错误，有两种办法:**<br/>\n",
    "一是通过in判断key是否存在：#1<br/>\n",
    "二是通过dict提供的get()方法：<br/>\n",
    "      如果key不存在，可以返回None，或者自己指定的value： #2-1<br/>\n",
    "      如果key存在，则返回key对应的value  #2-2<br/>\n",
    "      !!!注意!!!:在初始化dict时，对每个key都要设value,(即便以后再改value值)，否则会报错"
   ]
  },
  {
   "cell_type": "code",
   "execution_count": 22,
   "metadata": {},
   "outputs": [
    {
     "name": "stdout",
     "output_type": "stream",
     "text": [
      "#1: False True\n"
     ]
    }
   ],
   "source": [
    "#1\n",
    "print('#1:','Thomas' in d, 'Tracy' in d)"
   ]
  },
  {
   "cell_type": "code",
   "execution_count": 24,
   "metadata": {},
   "outputs": [
    {
     "name": "stdout",
     "output_type": "stream",
     "text": [
      "None\n",
      "5\n",
      "ok\n"
     ]
    }
   ],
   "source": [
    "#2\n",
    "#2-1\n",
    "print(d.get('Thomas'))\n",
    "print(d.get('Thomas',5))\n",
    "print(d.get('Haha','ok'))"
   ]
  },
  {
   "cell_type": "code",
   "execution_count": 25,
   "metadata": {},
   "outputs": [
    {
     "name": "stdout",
     "output_type": "stream",
     "text": [
      "75\n"
     ]
    }
   ],
   "source": [
    "#2-2\n",
    "print(d.get('Bob'))"
   ]
  },
  {
   "cell_type": "markdown",
   "metadata": {},
   "source": [
    "**要删除一个key，用pop(key)方法，对应的value也会从dict中删除：**"
   ]
  },
  {
   "cell_type": "code",
   "execution_count": 26,
   "metadata": {},
   "outputs": [
    {
     "name": "stdout",
     "output_type": "stream",
     "text": [
      "{'Michael': 99, 'Tracy': 85}\n"
     ]
    }
   ],
   "source": [
    "d.pop('Bob')\n",
    "print(d)"
   ]
  },
  {
   "cell_type": "markdown",
   "metadata": {},
   "source": [
    "请务必注意，dict内部存放的顺序和key放入的顺序是没有关系的。(dict不是有序的)"
   ]
  },
  {
   "cell_type": "markdown",
   "metadata": {},
   "source": [
    "和list比较，dict有以下几个特点：<br/>\n",
    "\n",
    "1. 查找和插入的速度极快，不会随着key的增加而变慢；<br/>\n",
    "2. 需要占用大量的内存，内存浪费多。<br/>\n",
    "\n",
    "而list相反：<br/>\n",
    "1. 查找和插入的时间随着元素的增加而增加；<br/>\n",
    "2. 占用空间小，浪费内存很少。<br/>\n",
    "所以，dict是用空间来换取时间的一种方法。"
   ]
  },
  {
   "cell_type": "markdown",
   "metadata": {},
   "source": [
    "### 集合set\n",
    "set和dict类似，也是一组key的集合，但不存储value。由于key不能重复，所以，**在set中，没有重复的key**。<br/>\n",
    "set和dict的**唯一区别仅在于没有存储对应的value**，但是，set的原理和dict一样，所以，**set中同样不可以放入可变对象**，因为无法判断两个可变对象是否相等，也就无法保证set内部“不会有重复元素”。试试把list放入set，看看是否会报错。"
   ]
  },
  {
   "cell_type": "markdown",
   "metadata": {},
   "source": [
    "要**创建一个set**，需要提供一个list作为输入集合：<br/>\n",
    "重复元素在set中自动被过滤"
   ]
  },
  {
   "cell_type": "code",
   "execution_count": 28,
   "metadata": {},
   "outputs": [
    {
     "name": "stdout",
     "output_type": "stream",
     "text": [
      "{1, 2, 3}\n",
      "注意：传入的参数[1, 2, 3]是一个list，而显示的{1, 2, 3}只是告诉你这个set内部有1，2，3这3个元素，显示的顺序也不表示set是有序的。\n",
      "{1, 2, 3, 4}\n"
     ]
    }
   ],
   "source": [
    "s=set([1,2,3])\n",
    "print(s1)\n",
    "print('注意：传入的参数[1, 2, 3]是一个list，而显示的{1, 2, 3}只是告诉你这个set内部有1，2，3这3个元素，显示的顺序也不表示set是有序的。')\n",
    "s=set([1,1,2,2,3,3,4,4])\n",
    "print(s2)"
   ]
  },
  {
   "cell_type": "markdown",
   "metadata": {},
   "source": [
    "#### set操作\n",
    "1. 添加元素到set中： add(key)方法，可以重复添加，但不会有效果：\n",
    "2. 删除元素： remove(key)方法\n",
    "3. 做数学意义上的交集、并集等操作：交集用&，并集用|<br/>\n",
    "     （set可以看成数学意义上的无序和无重复元素的集合，因此，两个set可以做数学意义上的交集、并集等操作）"
   ]
  },
  {
   "cell_type": "code",
   "execution_count": 29,
   "metadata": {},
   "outputs": [
    {
     "name": "stdout",
     "output_type": "stream",
     "text": [
      "{1, 2, 3, 4, 8}\n",
      "{1, 2, 3, 4, 8}\n",
      "{1, 3, 4, 8}\n",
      "{5, 6}\n",
      "{1, 2, 5, 6, 7}\n"
     ]
    }
   ],
   "source": [
    "#1\n",
    "s.add(8)\n",
    "print(s)\n",
    "s.add(8)\n",
    "print(s)\n",
    "#2\n",
    "s.remove(2)\n",
    "print(s)\n",
    "#3\n",
    "s1=set([1,2,5,6])\n",
    "s2=set([5,6,7])\n",
    "print(s1&s2)\n",
    "print(s1|s2)"
   ]
  },
  {
   "cell_type": "markdown",
   "metadata": {},
   "source": [
    "#### 再议不可变对象\n",
    "这个例子讲的挺有意思的https://www.liaoxuefeng.com/wiki/0014316089557264a6b348958f449949df42a6d3a2e542c000/00143167793538255adf33371774853a0ef943280573f4d000"
   ]
  }
 ],
 "metadata": {
  "kernelspec": {
   "display_name": "Python 3",
   "language": "python",
   "name": "python3"
  },
  "language_info": {
   "codemirror_mode": {
    "name": "ipython",
    "version": 3
   },
   "file_extension": ".py",
   "mimetype": "text/x-python",
   "name": "python",
   "nbconvert_exporter": "python",
   "pygments_lexer": "ipython3",
   "version": "3.7.1"
  }
 },
 "nbformat": 4,
 "nbformat_minor": 2
}
